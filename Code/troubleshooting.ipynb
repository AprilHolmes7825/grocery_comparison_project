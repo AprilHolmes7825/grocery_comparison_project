{
 "cells": [
  {
   "cell_type": "code",
   "execution_count": 2,
   "metadata": {},
   "outputs": [
    {
     "ename": "TypeError",
     "evalue": "'NoneType' object is not iterable",
     "output_type": "error",
     "traceback": [
      "\u001b[1;31m---------------------------------------------------------------------------\u001b[0m",
      "\u001b[1;31mTypeError\u001b[0m                                 Traceback (most recent call last)",
      "Cell \u001b[1;32mIn[2], line 19\u001b[0m\n\u001b[0;32m     15\u001b[0m eggs_text_elements \u001b[38;5;241m=\u001b[39m soup\u001b[38;5;241m.\u001b[39mfind(\u001b[38;5;124m'\u001b[39m\u001b[38;5;124mdiv\u001b[39m\u001b[38;5;124m'\u001b[39m, class_\u001b[38;5;241m=\u001b[39m \u001b[38;5;124m\"\u001b[39m\u001b[38;5;124mproduct-grid-cell_price-tag product-grid-cell_price-tag--full-tile\u001b[39m\u001b[38;5;124m\"\u001b[39m)\n\u001b[0;32m     17\u001b[0m eggs_list \u001b[38;5;241m=\u001b[39m []\n\u001b[1;32m---> 19\u001b[0m \u001b[38;5;28;01mfor\u001b[39;00m elem \u001b[38;5;129;01min\u001b[39;00m eggs_text_elements:\n\u001b[0;32m     20\u001b[0m     title \u001b[38;5;241m=\u001b[39m elem\u001b[38;5;241m.\u001b[39mfind(\u001b[38;5;124m\"\u001b[39m\u001b[38;5;124mdiv\u001b[39m\u001b[38;5;124m\"\u001b[39m, class_\u001b[38;5;241m=\u001b[39m\u001b[38;5;124m\"\u001b[39m\u001b[38;5;124mproduct-tile_detail\u001b[39m\u001b[38;5;124m\"\u001b[39m)\u001b[38;5;241m.\u001b[39mtext\n\u001b[0;32m     21\u001b[0m     \u001b[38;5;66;03m#brand = elem.find(\"div\", class_=\"product-tile__brandname\").text\u001b[39;00m\n",
      "\u001b[1;31mTypeError\u001b[0m: 'NoneType' object is not iterable"
     ]
    }
   ],
   "source": [
    "from splinter import Browser\n",
    "from bs4 import BeautifulSoup as soup\n",
    "import requests\n",
    "import pandas as pd\n",
    "\n",
    "from import_export import addTo_products_dataframe\n",
    "from import_export import get_products_dataframe\n",
    "\n",
    "url = 'https://stopandshop.com/product-search/12%20eggs?searchRef=recent&semanticSearch=false'\n",
    "headers = {'User-Agent': \"Mozilla/5.0 (Windows NT 10.0; Win64; x64) AppleWebKit/537.36 (KHTML, like Gecko) Chrome/122.0.0.0 Safari/537.36\"}\n",
    "response = requests.get(url, headers=headers)\n",
    "soup = soup(response.content, 'html.parser')\n",
    "#print(soup.prettify())\n",
    "\n",
    "eggs_text_elements = soup.find('div', class_= \"product-grid-cell_price-tag product-grid-cell_price-tag--full-tile\")\n",
    "\n",
    "eggs_list = []\n",
    "\n",
    "for elem in eggs_text_elements:\n",
    "    title = elem.find(\"div\", class_=\"product-tile_detail\").text\n",
    "    #brand = elem.find(\"div\", class_=\"product-tile__brandname\").text\n",
    "    price = elem.find(\"div\", class_=\"product-tile_detail\").text\n",
    "    #size = elem.find(\"div\", class_=\"product-tile__unit-of-measurement\").text\n",
    "\n",
    "    eggs_each_product = {\n",
    "        \"Product\": title,\n",
    "        #\"Brand\": brand,\n",
    "        \"Price\": price,\n",
    "        #\"Size\": size\n",
    "    }\n",
    "    eggs_list.append(eggs_each_product)\n",
    "\n",
    "#\n",
    "\n",
    "eggs_df = pd.DataFrame(eggs_list)\n",
    "eggs_df[\"Size\"] = eggs_df[\"Size\"].str.replace(r'\\s+', '', regex=True)\n",
    "    # ^^this line removes all spaces in the size column\n",
    "eggs_df[\"Price\"] = eggs_df[\"Price\"].str.replace(r'\\n', '', regex=True)\n",
    "\n",
    "eggs_df"
   ]
  }
 ],
 "metadata": {
  "kernelspec": {
   "display_name": "dev",
   "language": "python",
   "name": "python3"
  },
  "language_info": {
   "codemirror_mode": {
    "name": "ipython",
    "version": 3
   },
   "file_extension": ".py",
   "mimetype": "text/x-python",
   "name": "python",
   "nbconvert_exporter": "python",
   "pygments_lexer": "ipython3",
   "version": "3.10.13"
  }
 },
 "nbformat": 4,
 "nbformat_minor": 2
}
