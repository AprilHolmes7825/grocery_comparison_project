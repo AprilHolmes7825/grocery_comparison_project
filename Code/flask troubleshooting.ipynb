{
 "cells": [
  {
   "cell_type": "code",
   "execution_count": 14,
   "metadata": {},
   "outputs": [
    {
     "name": "stdout",
     "output_type": "stream",
     "text": [
      "SELECT products.store = ? AS anon_1 \n",
      "FROM products\n"
     ]
    }
   ],
   "source": [
    "import numpy as np\n",
    "\n",
    "import sqlalchemy\n",
    "from sqlalchemy.ext.automap import automap_base\n",
    "from sqlalchemy.orm import Session\n",
    "from sqlalchemy import create_engine, func\n",
    "\n",
    "from import_export import get_products_dataframe\n",
    "\n",
    "from flask import Flask, jsonify\n",
    "\n",
    "\n",
    "#################################################\n",
    "# Database Setup\n",
    "#################################################\n",
    "engine = create_engine(\"sqlite:///../grocery.sqlite\")\n",
    "\n",
    "# reflect an existing database into a new model\n",
    "Base = automap_base()\n",
    "# reflect the tables\n",
    "Base.prepare(autoload_with=engine)\n",
    "\n",
    "# Save reference to the table\n",
    "products = Base.classes.products\n",
    "\n",
    "    # Create our session (link) from Python to the DB\n",
    "session = Session(engine)\n",
    "\n",
    "\n",
    "    # Query all passengers\n",
    "    #results = session.query(products.product).all()\n",
    "\n",
    "aldi_query = session.query(products.store == 'Aldi')\n",
    "    #filter(products.store == 'Aldi').group_by(products.ingredient, products.price).all()\n",
    "    #aldi_cookie = session.query(func.min(aldi_query))\n",
    "print(aldi_query)\n",
    "\n",
    "    #session.close()\n",
    "\n",
    "    # Convert list of tuples into normal list\n",
    "    #all_names = list(np.ravel(results))\n",
    "\n",
    "    #return jsonify(all_cookies)\n"
   ]
  }
 ],
 "metadata": {
  "kernelspec": {
   "display_name": "dev",
   "language": "python",
   "name": "python3"
  },
  "language_info": {
   "codemirror_mode": {
    "name": "ipython",
    "version": 3
   },
   "file_extension": ".py",
   "mimetype": "text/x-python",
   "name": "python",
   "nbconvert_exporter": "python",
   "pygments_lexer": "ipython3",
   "version": "3.10.13"
  }
 },
 "nbformat": 4,
 "nbformat_minor": 2
}
