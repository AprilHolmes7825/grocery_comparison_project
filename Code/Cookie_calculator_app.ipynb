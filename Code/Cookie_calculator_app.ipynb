{
 "cells": [
  {
   "cell_type": "code",
   "execution_count": 2,
   "metadata": {},
   "outputs": [],
   "source": [
    "import os\n",
    "from splinter import Browser\n",
    "from bs4 import BeautifulSoup as soup\n",
    "import requests\n",
    "import pandas as pd"
   ]
  },
  {
   "cell_type": "code",
   "execution_count": 3,
   "metadata": {},
   "outputs": [],
   "source": [
    "%store -r aldi_products_df\n",
    "%store -r kroger_products_df\n",
    "%store -r walmart_products_df"
   ]
  },
  {
   "cell_type": "code",
   "execution_count": 4,
   "metadata": {},
   "outputs": [],
   "source": [
    "aldi = aldi_products_df\n",
    "kroger = kroger_products_df\n",
    "walmart = walmart_products_df"
   ]
  },
  {
   "cell_type": "code",
   "execution_count": 5,
   "metadata": {},
   "outputs": [],
   "source": [
    "aldi_lowest = aldi.groupby('Ingredient')['Price'].min()\n",
    "aldi_cost = aldi_lowest.sum()\n",
    "aldi_cost = '{:.2f}'.format(aldi_cost)\n",
    "#aldi_cost\n",
    "kroger_lowest = kroger.groupby('Ingredient')['Price'].min()\n",
    "kroger_cost = kroger_lowest.sum()\n",
    "kroger_cost = '{:.2f}'.format(kroger_cost)\n",
    "#kroger_cost\n",
    "walmart_lowest = walmart.groupby('Ingredient')['Price'].min()\n",
    "walmart_cost = walmart_lowest.sum()\n",
    "walmart_cost = '{:.2f}'.format(walmart_cost)\n",
    "#walmart_cost"
   ]
  },
  {
   "cell_type": "code",
   "execution_count": null,
   "metadata": {},
   "outputs": [],
   "source": [
    "walname = \"Walmart\"\n",
    "krogname = \"Kroger\"\n",
    "aldiname = \"Aldi\""
   ]
  },
  {
   "cell_type": "code",
   "execution_count": 7,
   "metadata": {},
   "outputs": [
    {
     "name": "stdout",
     "output_type": "stream",
     "text": [
      "                                              Product          Brand  Price  \\\n",
      "0             Cage Free Large Eggs - Grade A, 1 dozen        Goldhen   2.75   \n",
      "1       Free Range Large Brown Grade A Eggs, 12 count        Goldhen   4.05   \n",
      "2                   Grade A Large White Eggs, 1 dozen        Goldhen   3.09   \n",
      "3               Organic Cage Free Brown Eggs, 1 dozen  Simply Nature   4.35   \n",
      "4   Pasture Raised Large Brown Eggs Grade A, 12 count        Goldhen   4.95   \n",
      "..                                                ...            ...    ...   \n",
      "52                                                NaN            NaN   5.44   \n",
      "53                                                NaN            NaN   4.33   \n",
      "54                                                NaN            NaN   4.24   \n",
      "55                                                NaN            NaN   3.13   \n",
      "56                                                NaN            NaN   2.44   \n",
      "\n",
      "    Size       Ingredient    Store  \\\n",
      "0   12ct             eggs     Aldi   \n",
      "1   12ct             eggs     Aldi   \n",
      "2                    eggs     Aldi   \n",
      "3   12ct             eggs     Aldi   \n",
      "4   12ct             eggs     Aldi   \n",
      "..   ...              ...      ...   \n",
      "52   NaN  chocolate chips  Walmart   \n",
      "53   NaN  chocolate chips  Walmart   \n",
      "54   NaN  chocolate chips  Walmart   \n",
      "55   NaN  chocolate chips  Walmart   \n",
      "56   NaN  chocolate chips  Walmart   \n",
      "\n",
      "                                                 Name  \n",
      "0                                                 NaN  \n",
      "1                                                 NaN  \n",
      "2                                                 NaN  \n",
      "3                                                 NaN  \n",
      "4                                                 NaN  \n",
      "..                                                ...  \n",
      "52  Nestle Toll House Semi Sweet Chocolate Baking ...  \n",
      "53  GHIRARDELLI Semi-Sweet Chocolate Premium Bakin...  \n",
      "54  Great Value Semi-Sweet Chocolate Chips, 24 oz ...  \n",
      "55  Nestle Toll House Semi Sweet Chocolate Mini Ba...  \n",
      "56  Great Value Mini Semi-Sweet Chocolate Baking C...  \n",
      "\n",
      "[165 rows x 7 columns]\n"
     ]
    }
   ],
   "source": [
    "allframes = [aldi, kroger, walmart]\n",
    "master_list = pd.concat(allframes)\n",
    "print(master_list)"
   ]
  },
  {
   "cell_type": "code",
   "execution_count": 17,
   "metadata": {},
   "outputs": [
    {
     "data": {
      "text/plain": [
       "'17.48'"
      ]
     },
     "execution_count": 17,
     "metadata": {},
     "output_type": "execute_result"
    }
   ],
   "source": []
  },
  {
   "cell_type": "code",
   "execution_count": 20,
   "metadata": {},
   "outputs": [
    {
     "data": {
      "text/plain": [
       "'17.34'"
      ]
     },
     "execution_count": 20,
     "metadata": {},
     "output_type": "execute_result"
    }
   ],
   "source": [
    "#stores = [aldi_cost, kroger_cost, walmart_cost]\n",
    "overall_lowest = min(aldi_cost, kroger_cost, walmart_cost)\n",
    "overall_lowest"
   ]
  }
 ],
 "metadata": {
  "kernelspec": {
   "display_name": "dev",
   "language": "python",
   "name": "python3"
  },
  "language_info": {
   "codemirror_mode": {
    "name": "ipython",
    "version": 3
   },
   "file_extension": ".py",
   "mimetype": "text/x-python",
   "name": "python",
   "nbconvert_exporter": "python",
   "pygments_lexer": "ipython3",
   "version": "3.10.13"
  }
 },
 "nbformat": 4,
 "nbformat_minor": 2
}
