{
 "cells": [
  {
   "cell_type": "code",
   "execution_count": 9,
   "metadata": {},
   "outputs": [],
   "source": [
    "%matplotlib inline\n",
    "from matplotlib import style\n",
    "style.use('fivethirtyeight')\n",
    "import matplotlib.pyplot as plt"
   ]
  },
  {
   "cell_type": "code",
   "execution_count": 10,
   "metadata": {},
   "outputs": [],
   "source": [
    "import numpy as np\n",
    "import pandas as pd\n",
    "import datetime as dt"
   ]
  },
  {
   "cell_type": "code",
   "execution_count": 21,
   "metadata": {},
   "outputs": [],
   "source": [
    "# Python SQL toolkit and Object Relational Mapper\n",
    "import sqlalchemy\n",
    "from sqlalchemy.ext.automap import automap_base\n",
    "from sqlalchemy.orm import Session\n",
    "from sqlalchemy import create_engine, func"
   ]
  },
  {
   "cell_type": "code",
   "execution_count": 30,
   "metadata": {},
   "outputs": [],
   "source": [
    "#engine = create_engine(\"sqlite:///grocery.sqlite\")#C:\\Users\\cjava\\OneDrive\\Desktop\\Challenges\\grocery_comparison_project\\grocery.sqlite\n",
    "engine = create_engine(\"sqlite:///C:/Users/cjava/OneDrive/Desktop/Challenges/grocery_comparison_project/grocery.sqlite\")"
   ]
  },
  {
   "cell_type": "code",
   "execution_count": 31,
   "metadata": {},
   "outputs": [],
   "source": [
    "# reflect an existing database into a new model\n",
    "Base = automap_base()\n",
    "# reflect the tables\n",
    "Base.prepare(autoload_with=engine)"
   ]
  },
  {
   "cell_type": "code",
   "execution_count": 32,
   "metadata": {},
   "outputs": [
    {
     "data": {
      "text/plain": [
       "['products', 'store']"
      ]
     },
     "execution_count": 32,
     "metadata": {},
     "output_type": "execute_result"
    }
   ],
   "source": [
    "# View all of the classes that automap found\n",
    "Base.classes.keys()"
   ]
  },
  {
   "cell_type": "code",
   "execution_count": 33,
   "metadata": {},
   "outputs": [],
   "source": [
    "# Save references to each table\n",
    "products = Base.classes.products\n",
    "\n",
    "store = Base.classes.store"
   ]
  },
  {
   "cell_type": "code",
   "execution_count": 34,
   "metadata": {},
   "outputs": [],
   "source": [
    "# Create our session (link) from Python to the DB\n",
    "session = Session(engine)"
   ]
  },
  {
   "cell_type": "code",
   "execution_count": 35,
   "metadata": {},
   "outputs": [
    {
     "data": {
      "text/plain": [
       "[('Adli', 'baking powder', 2.05),\n",
       " ('Adli', 'baking soda', 0.99),\n",
       " ('Adli', 'iodized salt', 0.75),\n",
       " ('Aldi', 'baking powder', 2.05),\n",
       " ('Aldi', 'baking soda', 0.99),\n",
       " ('Aldi', 'butter', 2.99),\n",
       " ('Aldi', 'chocolate chips', 2.57),\n",
       " ('Aldi', 'eggs', 2.09),\n",
       " ('Aldi', 'flour', 2.55),\n",
       " ('Aldi', 'granulated sugar', 2.39),\n",
       " ('Aldi', 'iodized salt', 0.75),\n",
       " ('Aldi', 'milk', 1.75),\n",
       " ('Aldi', 'vanilla extract', 5.49),\n",
       " ('KROGER', 'all purpose flour', 2.69),\n",
       " ('KROGER', 'baking powder', 2.69),\n",
       " ('KROGER', 'baking soda', 1.19),\n",
       " ('KROGER', 'butter', 3.5),\n",
       " ('KROGER', 'chocolate chips', 2.69),\n",
       " ('KROGER', 'eggs', 2.49),\n",
       " ('KROGER', 'granulated sugar', 2.69),\n",
       " ('KROGER', 'iodized salt', 0.79),\n",
       " ('KROGER', 'large eggs', 2.09),\n",
       " ('KROGER', 'light brown sugar', 2.79),\n",
       " ('KROGER', 'milk', 1.99),\n",
       " ('KROGER', 'pure vanilla extract', 5.99),\n",
       " ('KROGER', 'vanilla extract', 1.99),\n",
       " ('Walmart', 'baking powder', 2.63),\n",
       " ('Walmart', 'baking soda', 0.92),\n",
       " ('Walmart', 'brown sugar', 2.34),\n",
       " ('Walmart', 'butter', 4.27),\n",
       " ('Walmart', 'chocolate chips', 2.32),\n",
       " ('Walmart', 'eggs', 2.96),\n",
       " ('Walmart', 'flour', 1.32),\n",
       " ('Walmart', 'granulated sugar', 1.72),\n",
       " ('Walmart', 'milk', 1.98),\n",
       " ('Walmart', 'salt', 1.46),\n",
       " ('Walmart', 'vanilla extract', 1.46)]"
      ]
     },
     "execution_count": 35,
     "metadata": {},
     "output_type": "execute_result"
    }
   ],
   "source": [
    "results = session.query(products.store, products.ingredient, func.min(products.price).label('min_price')) \\\n",
    "        .group_by(products.store, products.ingredient) \\\n",
    "        .all()\n",
    "\n",
    "results"
   ]
  },
  {
   "cell_type": "code",
   "execution_count": 36,
   "metadata": {},
   "outputs": [],
   "source": [
    "store_min_prices = {}\n",
    "for store, ingredient, min_price in results:\n",
    "        if store not in store_min_prices:\n",
    "            store_min_prices[store] = {}\n",
    "        if ingredient not in store_min_prices[store]:\n",
    "            store_min_prices[store][ingredient] = min_price\n",
    "        else:\n",
    "            store_min_prices[store][ingredient] += min_price\n",
    "    \n",
    "    # Convert the dictionary into a list of dictionaries\n",
    "min_prices_list = []\n",
    "for store, ingredients in store_min_prices.items():\n",
    "        total_min_price = sum(ingredients.values())\n",
    "        min_prices_list.append({'store': store, 'total_min_price': total_min_price})"
   ]
  },
  {
   "cell_type": "code",
   "execution_count": 37,
   "metadata": {},
   "outputs": [
    {
     "data": {
      "text/plain": [
       "[{'store': 'Adli', 'total_min_price': 3.79},\n",
       " {'store': 'Aldi', 'total_min_price': 23.619999999999997},\n",
       " {'store': 'KROGER', 'total_min_price': 33.58},\n",
       " {'store': 'Walmart', 'total_min_price': 23.380000000000003}]"
      ]
     },
     "execution_count": 37,
     "metadata": {},
     "output_type": "execute_result"
    }
   ],
   "source": [
    "min_prices_list"
   ]
  },
  {
   "cell_type": "code",
   "execution_count": 38,
   "metadata": {},
   "outputs": [
    {
     "data": {
      "text/html": [
       "<div>\n",
       "<style scoped>\n",
       "    .dataframe tbody tr th:only-of-type {\n",
       "        vertical-align: middle;\n",
       "    }\n",
       "\n",
       "    .dataframe tbody tr th {\n",
       "        vertical-align: top;\n",
       "    }\n",
       "\n",
       "    .dataframe thead th {\n",
       "        text-align: right;\n",
       "    }\n",
       "</style>\n",
       "<table border=\"1\" class=\"dataframe\">\n",
       "  <thead>\n",
       "    <tr style=\"text-align: right;\">\n",
       "      <th></th>\n",
       "      <th>total_min_price</th>\n",
       "    </tr>\n",
       "    <tr>\n",
       "      <th>store</th>\n",
       "      <th></th>\n",
       "    </tr>\n",
       "  </thead>\n",
       "  <tbody>\n",
       "    <tr>\n",
       "      <th>Adli</th>\n",
       "      <td>3.79</td>\n",
       "    </tr>\n",
       "    <tr>\n",
       "      <th>Aldi</th>\n",
       "      <td>23.62</td>\n",
       "    </tr>\n",
       "    <tr>\n",
       "      <th>KROGER</th>\n",
       "      <td>33.58</td>\n",
       "    </tr>\n",
       "    <tr>\n",
       "      <th>Walmart</th>\n",
       "      <td>23.38</td>\n",
       "    </tr>\n",
       "  </tbody>\n",
       "</table>\n",
       "</div>"
      ],
      "text/plain": [
       "         total_min_price\n",
       "store                   \n",
       "Adli                3.79\n",
       "Aldi               23.62\n",
       "KROGER             33.58\n",
       "Walmart            23.38"
      ]
     },
     "execution_count": 38,
     "metadata": {},
     "output_type": "execute_result"
    }
   ],
   "source": [
    "df = pd.DataFrame(min_prices_list, columns=['store', 'total_min_price'])\n",
    "df = df.set_index('store')\n",
    "df"
   ]
  },
  {
   "cell_type": "code",
   "execution_count": 39,
   "metadata": {},
   "outputs": [
    {
     "data": {
      "text/plain": [
       "<matplotlib.legend.Legend at 0x1c71f6b3640>"
      ]
     },
     "execution_count": 39,
     "metadata": {},
     "output_type": "execute_result"
    },
    {
     "data": {
      "image/png": "[encoded data removed]",
      "text/plain": [
       "<Figure size 640x480 with 1 Axes>"
      ]
     },
     "metadata": {},
     "output_type": "display_data"
    }
   ],
   "source": [
    "df.plot.bar()\n",
    "plt.ylabel('Total Cost')\n",
    "plt.xlabel('Store Name')\n",
    "plt.legend(['Total Cost'], loc='upper left')"
   ]
  },
  {
   "cell_type": "code",
   "execution_count": null,
   "metadata": {},
   "outputs": [],
   "source": [
    "DELETE FROM store\n",
    "WHERE store = 'Adli';"
   ]
  },
  {
   "cell_type": "code",
   "execution_count": 17,
   "metadata": {},
   "outputs": [],
   "source": [
    "from sqlite3 import Error"
   ]
  },
  {
   "cell_type": "code",
   "execution_count": 18,
   "metadata": {},
   "outputs": [
    {
     "ename": "NameError",
     "evalue": "name 'cursor' is not defined",
     "output_type": "error",
     "traceback": [
      "\u001b[1;31m---------------------------------------------------------------------------\u001b[0m",
      "\u001b[1;31mNameError\u001b[0m                                 Traceback (most recent call last)",
      "Cell \u001b[1;32mIn[18], line 2\u001b[0m\n\u001b[0;32m      1\u001b[0m \u001b[38;5;28;01mtry\u001b[39;00m:\n\u001b[1;32m----> 2\u001b[0m     sql_del \u001b[38;5;241m=\u001b[39m \u001b[43mcursor\u001b[49m\u001b[38;5;241m.\u001b[39mexecute(\u001b[38;5;124m\"\u001b[39m\u001b[38;5;124mDELETE FROM store WHERE store = Adli\u001b[39m\u001b[38;5;124m\"\u001b[39m)\n\u001b[0;32m      3\u001b[0m     \u001b[38;5;28mprint\u001b[39m(\u001b[38;5;124m\"\u001b[39m\u001b[38;5;124mTotal records affected: \u001b[39m\u001b[38;5;124m\"\u001b[39m, sql_del\u001b[38;5;241m.\u001b[39mrowcount)\n\u001b[0;32m      4\u001b[0m     con\u001b[38;5;241m.\u001b[39mcommit()\n",
      "\u001b[1;31mNameError\u001b[0m: name 'cursor' is not defined"
     ]
    }
   ],
   "source": [
    "\n",
    "\n",
    "\n",
    "try:\n",
    "    sql_del = cursor.execute(\"DELETE FROM store WHERE store = Adli\")\n",
    "    print(\"Total records affected: \", sql_del.rowcount)\n",
    "    con.commit()\n",
    "except Error as e:\n",
    "    print(f\"Oops! Something went wrong. Error: {e}\")\n",
    "    # reverse the change in case of error\n",
    "    con.rollback()"
   ]
  },
  {
   "cell_type": "code",
   "execution_count": null,
   "metadata": {},
   "outputs": [],
   "source": [
    "temp_obs = session.query(Measurement.tobs).\\\n",
    "    filter(Measurement.station == 'USC00519281').\\\n",
    "    filter(Measurement.date >= '2016-08-18').all()\n",
    "\n",
    "df = pd.DataFrame(temp_obs, columns=['Tobs'])\n",
    "\n",
    "\n",
    "\n",
    "plt.hist(df['Tobs'], bins=12)\n",
    "plt.xlabel('Temperature')\n",
    "plt.ylabel('Frequency')\n",
    "plt.legend(['tobs'], loc='upper right')\n",
    "plt.show()\n"
   ]
  }
 ],
 "metadata": {
  "kernelspec": {
   "display_name": "Python 3",
   "language": "python",
   "name": "python3"
  },
  "language_info": {
   "codemirror_mode": {
    "name": "ipython",
    "version": 3
   },
   "file_extension": ".py",
   "mimetype": "text/x-python",
   "name": "python",
   "nbconvert_exporter": "python",
   "pygments_lexer": "ipython3",
   "version": "3.10.13"
  }
 },
 "nbformat": 4,
 "nbformat_minor": 2
}
